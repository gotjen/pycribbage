{
 "cells": [
  {
   "cell_type": "code",
   "execution_count": 1,
   "id": "6513471b-5b46-4396-b09e-6f1c6567d891",
   "metadata": {},
   "outputs": [],
   "source": [
    "from src.playing_cards import Card, full_deck, sort_cards, random_cards\n",
    "from src.cribbage_gameplay import cribscore, CribbageMatch\n",
    "from src.cribbage import random_deal_explorer, CribAgent\n",
    "\n",
    "outdir = 'output'"
   ]
  },
  {
   "cell_type": "code",
   "execution_count": 2,
   "id": "eb4d4ffd",
   "metadata": {},
   "outputs": [
    {
     "name": "stdout",
     "output_type": "stream",
     "text": [
      "[[ ♡ 4 ], [ ♠ K ], [ ♠ 2 ], [ ♠ 6 ], [ ♢ 10 ], [ ♡ 10 ]]\n"
     ]
    }
   ],
   "source": [
    "hand = random_cards(n=6)\n",
    "print(hand)"
   ]
  },
  {
   "cell_type": "code",
   "execution_count": 3,
   "id": "238a1bd6-2923-4073-91ab-4d8d1f377e5f",
   "metadata": {},
   "outputs": [
    {
     "name": "stdout",
     "output_type": "stream",
     "text": [
      "[[ ♣ 8 ], [ ♢ Q ], [ ♢ J ], [ ♣ 4 ], [ ♠ 9 ]]\n",
      "Score: 0\n"
     ]
    }
   ],
   "source": [
    "h = random_cards(5)\n",
    "print(h)\n",
    "score, bdown = cribscore(list(h))\n",
    "print(f'Score: {score}')"
   ]
  },
  {
   "cell_type": "code",
   "execution_count": 4,
   "id": "dae37f3e-9d80-4ede-9a9f-026243ba6790",
   "metadata": {},
   "outputs": [
    {
     "name": "stdout",
     "output_type": "stream",
     "text": [
      "Dealt:  [[ ♠ A ], [ ♠ J ], [ ♠ 7 ], [ ♡ 7 ], [ ♣ A ], [ ♢ 10 ]]\n",
      "___________\n",
      "Highest possible score\n",
      "With hand: [[ ♠ A ], [ ♠ 7 ], [ ♡ 7 ], [ ♣ A ]]\n",
      "Best cut: [ ♢ 7 ], Score: 20.0\n",
      "Mean score: 9.478260869565217, Median score: 8.0\n",
      "Worst cut: [ ♠ 2 ], Score 8.0\n",
      "___________\n",
      "Highest mean score\n",
      "With hand: [[ ♠ A ], [ ♠ 7 ], [ ♡ 7 ], [ ♣ A ]]\n",
      "Best cut: [ ♢ 7 ], Score: 20.0\n",
      "Mean score: 9.478260869565217, Median score: 8.0\n",
      "Worst cut: [ ♠ 2 ], Score 8.0\n",
      "___________\n",
      "Highest Median score\n",
      "With hand: [[ ♠ A ], [ ♠ 7 ], [ ♡ 7 ], [ ♣ A ]]\n",
      "Best cut: [ ♢ 7 ], Score: 20.0\n",
      "Mean score: 9.478260869565217, Median score: 8.0\n",
      "Worst cut: [ ♠ 2 ], Score 8.0\n",
      "___________\n",
      "Highest Worst case score\n",
      "With hand: [[ ♠ A ], [ ♠ 7 ], [ ♡ 7 ], [ ♣ A ]]\n",
      "Best cut: [ ♢ 7 ], Score: 20.0\n",
      "Mean score: 9.478260869565217, Median score: 8.0\n",
      "Worst cut: [ ♠ 2 ], Score 8.0\n",
      "___________\n",
      "Best \"fittness\" parameter\n",
      "With hand: [[ ♠ A ], [ ♠ 7 ], [ ♡ 7 ], [ ♣ A ]]\n",
      "Best cut: [ ♢ 7 ], Score: 20.0\n",
      "Mean score: 9.478260869565217, Median score: 8.0\n",
      "Worst cut: [ ♠ 2 ], Score 8.0\n"
     ]
    }
   ],
   "source": [
    "random_deal_explorer()"
   ]
  },
  {
   "cell_type": "code",
   "execution_count": 6,
   "id": "1226d910",
   "metadata": {},
   "outputs": [],
   "source": [
    "agent1 = CribAgent('human', 'Henry')\n",
    "agent2 = CribAgent('fit', 'Mercury')\n",
    "match = CribbageMatch(agent1, agent2, verbose = True)\n",
    "match.playmatch()"
   ]
  },
  {
   "cell_type": "code",
   "execution_count": 7,
   "id": "827e0801",
   "metadata": {},
   "outputs": [
    {
     "name": "stdout",
     "output_type": "stream",
     "text": [
      "Begin match\n",
      "Player1: Mercury (first dealer)\n",
      "Player2: Henry\n",
      "{True: [[ ♣ Q ], [ ♠ K ], [ ♡ 3 ], [ ♢ J ], [ ♢ 7 ], [ ♢ 3 ]], False: [[ ♡ K ], [ ♢ 8 ], [ ♣ 4 ], [ ♣ A ], [ ♡ 10 ], [ ♡ J ]], 'cut': [ ♠ 9 ]}\n",
      "0 [ ♣ Q ]\n",
      "1 [ ♠ K ]\n",
      "2 [ ♡ 3 ]\n",
      "3 [ ♢ J ]\n",
      "4 [ ♢ 7 ]\n",
      "5 [ ♢ 3 ]\n",
      "{True: [[ ♡ 3 ], [ ♢ J ], [ ♢ 7 ], [ ♢ 3 ]], False: [[ ♣ 4 ], [ ♣ A ], [ ♡ 10 ], [ ♡ J ]], 'crib': [[ ♠ K ], [ ♣ Q ], [ ♢ 8 ], [ ♡ K ]]}\n",
      "The cut: [ ♠ 9 ]\n"
     ]
    },
    {
     "ename": "NameError",
     "evalue": "name 'scoreboard' is not defined",
     "output_type": "error",
     "traceback": [
      "\u001b[0;31m---------------------------------------------------------------------------\u001b[0m",
      "\u001b[0;31mNameError\u001b[0m                                 Traceback (most recent call last)",
      "Cell \u001b[0;32mIn[7], line 1\u001b[0m\n\u001b[0;32m----> 1\u001b[0m \u001b[38;5;28;43;01mmatch\u001b[39;49;00m\u001b[38;5;241;43m.\u001b[39;49m\u001b[43mplaymatch\u001b[49m\u001b[43m(\u001b[49m\u001b[43m)\u001b[49m\n",
      "File \u001b[0;32m~/CODE/PROJECT/crib/src/cribbage_gameplay.py:300\u001b[0m, in \u001b[0;36mCribbageMatch.playmatch\u001b[0;34m(self)\u001b[0m\n\u001b[1;32m    298\u001b[0m \u001b[38;5;66;03m# Phase 1: Deal and discard\u001b[39;00m\n\u001b[1;32m    299\u001b[0m \u001b[38;5;28mself\u001b[39m\u001b[38;5;241m.\u001b[39mdo_the_deal()\n\u001b[0;32m--> 300\u001b[0m \u001b[38;5;28;01mif\u001b[39;00m \u001b[38;5;28;43mself\u001b[39;49m\u001b[38;5;241;43m.\u001b[39;49m\u001b[43mcheck_for_winner\u001b[49m\u001b[43m(\u001b[49m\u001b[43m)\u001b[49m: \u001b[38;5;28;01mbreak\u001b[39;00m\n\u001b[1;32m    302\u001b[0m \u001b[38;5;66;03m# Phase 2: the play\u001b[39;00m\n\u001b[1;32m    303\u001b[0m \u001b[38;5;28mself\u001b[39m\u001b[38;5;241m.\u001b[39mdo_the_play(hands)\n",
      "File \u001b[0;32m~/CODE/PROJECT/crib/src/cribbage_gameplay.py:316\u001b[0m, in \u001b[0;36mCribbageMatch.check_for_winner\u001b[0;34m(self)\u001b[0m\n\u001b[1;32m    315\u001b[0m \u001b[38;5;28;01mdef\u001b[39;00m \u001b[38;5;21mcheck_for_winner\u001b[39m(\u001b[38;5;28mself\u001b[39m) \u001b[38;5;241m-\u001b[39m\u001b[38;5;241m>\u001b[39m \u001b[38;5;28mbool\u001b[39m:\n\u001b[0;32m--> 316\u001b[0m     \u001b[38;5;28;01mif\u001b[39;00m \u001b[43mscoreboard\u001b[49m[\u001b[38;5;28;01mTrue\u001b[39;00m] \u001b[38;5;241m>\u001b[39m\u001b[38;5;241m=\u001b[39m \u001b[38;5;28mself\u001b[39m\u001b[38;5;241m.\u001b[39mendscore:\n\u001b[1;32m    317\u001b[0m         winner \u001b[38;5;241m=\u001b[39m \u001b[38;5;28;01mTrue\u001b[39;00m\n\u001b[1;32m    318\u001b[0m     \u001b[38;5;28;01melif\u001b[39;00m scoreboard[\u001b[38;5;28;01mFalse\u001b[39;00m] \u001b[38;5;241m>\u001b[39m\u001b[38;5;241m=\u001b[39m \u001b[38;5;28mself\u001b[39m\u001b[38;5;241m.\u001b[39mendscore:\n",
      "\u001b[0;31mNameError\u001b[0m: name 'scoreboard' is not defined"
     ]
    }
   ],
   "source": [
    "match.playmatch()"
   ]
  },
  {
   "cell_type": "code",
   "execution_count": null,
   "id": "73220059",
   "metadata": {},
   "outputs": [],
   "source": []
  }
 ],
 "metadata": {
  "kernelspec": {
   "display_name": "base",
   "language": "python",
   "name": "python3"
  },
  "language_info": {
   "codemirror_mode": {
    "name": "ipython",
    "version": 3
   },
   "file_extension": ".py",
   "mimetype": "text/x-python",
   "name": "python",
   "nbconvert_exporter": "python",
   "pygments_lexer": "ipython3",
   "version": "3.12.6"
  }
 },
 "nbformat": 4,
 "nbformat_minor": 5
}
