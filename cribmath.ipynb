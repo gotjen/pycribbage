{
 "cells": [
  {
   "cell_type": "code",
   "execution_count": 1,
   "id": "6513471b-5b46-4396-b09e-6f1c6567d891",
   "metadata": {},
   "outputs": [],
   "source": [
    "import unittest\n",
    "import random\n",
    "\n",
    "from src.playing_cards import Card, full_deck, sort_cards, random_cards\n",
    "from src.cribbage_gameplay import breakdown_counter_empty, cribscore, isnibs, isflush, isflush_in_hand, isrun, isfifteen, ispair, chantscore"
   ]
  },
  {
   "cell_type": "code",
   "execution_count": 2,
   "id": "ab715ae2-6452-4158-be81-1bbfd71cd428",
   "metadata": {},
   "outputs": [],
   "source": [
    "import src.cribbage as crib"
   ]
  },
  {
   "cell_type": "code",
   "execution_count": 7,
   "id": "238a1bd6-2923-4073-91ab-4d8d1f377e5f",
   "metadata": {},
   "outputs": [
    {
     "name": "stdout",
     "output_type": "stream",
     "text": [
      "{[ 8 ♢] , [ 8 ♣] , [ 7 ♠] , [ 7 ♢] , [ 4 ♡] }\n"
     ]
    },
    {
     "data": {
      "text/plain": [
       "(12,\n",
       " {'zero': 0,\n",
       "  'fifteen': 4,\n",
       "  'pair': 2,\n",
       "  'run3': 0,\n",
       "  'run4': 0,\n",
       "  'run5': 0,\n",
       "  'flush4': 0,\n",
       "  'flush5': 0,\n",
       "  'nibs': 0})"
      ]
     },
     "execution_count": 7,
     "metadata": {},
     "output_type": "execute_result"
    }
   ],
   "source": [
    "h = crib.random_cards()\n",
    "print(h)\n",
    "crib.cribscore(list(h))"
   ]
  },
  {
   "cell_type": "code",
   "execution_count": 5,
   "id": "5f806f0d-fa49-48d1-b125-2b97f12495fe",
   "metadata": {},
   "outputs": [
    {
     "ename": "NameError",
     "evalue": "name 'bdown' is not defined",
     "output_type": "error",
     "traceback": [
      "\u001b[0;31m---------------------------------------------------------------------------\u001b[0m",
      "\u001b[0;31mNameError\u001b[0m                                 Traceback (most recent call last)",
      "Cell \u001b[0;32mIn[5], line 1\u001b[0m\n\u001b[0;32m----> 1\u001b[0m \u001b[43mbdown\u001b[49m\n",
      "\u001b[0;31mNameError\u001b[0m: name 'bdown' is not defined"
     ]
    }
   ],
   "source": []
  },
  {
   "cell_type": "code",
   "execution_count": null,
   "id": "dae37f3e-9d80-4ede-9a9f-026243ba6790",
   "metadata": {},
   "outputs": [],
   "source": []
  }
 ],
 "metadata": {
  "kernelspec": {
   "display_name": "base",
   "language": "python",
   "name": "base"
  },
  "language_info": {
   "codemirror_mode": {
    "name": "ipython",
    "version": 3
   },
   "file_extension": ".py",
   "mimetype": "text/x-python",
   "name": "python",
   "nbconvert_exporter": "python",
   "pygments_lexer": "ipython3",
   "version": "3.12.4"
  }
 },
 "nbformat": 4,
 "nbformat_minor": 5
}
