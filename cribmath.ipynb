{
 "cells": [
  {
   "cell_type": "code",
   "execution_count": 2,
   "id": "6513471b-5b46-4396-b09e-6f1c6567d891",
   "metadata": {},
   "outputs": [],
   "source": [
    "from src.playing_cards import Card, full_deck, sort_cards, random_cards\n",
    "from src.cribbage_gameplay import breakdown_counter_empty, cribscore, isnibs, isflush, isflush_in_hand, isrun, isfifteen, ispair, chantscore\n",
    "import src.cribbage as crib\n",
    "\n",
    "outdir = 'output'"
   ]
  },
  {
   "cell_type": "code",
   "execution_count": 3,
   "id": "238a1bd6-2923-4073-91ab-4d8d1f377e5f",
   "metadata": {},
   "outputs": [
    {
     "name": "stdout",
     "output_type": "stream",
     "text": [
      "{[ 2 ♠] , [ 8 ♠] , [ 9 ♣] , [ 3 ♢] , [ 3 ♣] }\n",
      "Score: 4\n"
     ]
    }
   ],
   "source": [
    "h = crib.random_cards()\n",
    "print(h)\n",
    "score, bdown = crib.cribscore(list(h))\n",
    "print(f'Score: {score}')"
   ]
  },
  {
   "cell_type": "code",
   "execution_count": 4,
   "id": "dae37f3e-9d80-4ede-9a9f-026243ba6790",
   "metadata": {},
   "outputs": [
    {
     "name": "stdout",
     "output_type": "stream",
     "text": [
      "Dealt:  {[ 8 ♢] , [ 8 ♡] , [10 ♣] , [ K ♣] , [ 7 ♡] , [ Q ♠] }\n"
     ]
    },
    {
     "ename": "TypeError",
     "evalue": "'set' object is not subscriptable",
     "output_type": "error",
     "traceback": [
      "\u001b[0;31m---------------------------------------------------------------------------\u001b[0m",
      "\u001b[0;31mTypeError\u001b[0m                                 Traceback (most recent call last)",
      "Cell \u001b[0;32mIn[4], line 1\u001b[0m\n\u001b[0;32m----> 1\u001b[0m \u001b[43mcrib\u001b[49m\u001b[38;5;241;43m.\u001b[39;49m\u001b[43mrand_deal_explorer\u001b[49m\u001b[43m(\u001b[49m\u001b[43m)\u001b[49m\n",
      "File \u001b[0;32m~/CODE/PROJECT/crib/src/cribbage.py:145\u001b[0m, in \u001b[0;36mrand_deal_explorer\u001b[0;34m()\u001b[0m\n\u001b[1;32m    142\u001b[0m deal \u001b[38;5;241m=\u001b[39m random_cards(\u001b[38;5;241m6\u001b[39m)\n\u001b[1;32m    143\u001b[0m \u001b[38;5;28mprint\u001b[39m(\u001b[38;5;124m'\u001b[39m\u001b[38;5;124mDealt: \u001b[39m\u001b[38;5;124m'\u001b[39m, deal)\n\u001b[0;32m--> 145\u001b[0m res \u001b[38;5;241m=\u001b[39m \u001b[43mbrute_cut_analysis\u001b[49m\u001b[43m(\u001b[49m\u001b[43mdeal\u001b[49m\u001b[43m)\u001b[49m\n\u001b[1;32m    146\u001b[0m SCORE \u001b[38;5;241m=\u001b[39m res[\u001b[38;5;124m'\u001b[39m\u001b[38;5;124mSCORE\u001b[39m\u001b[38;5;124m'\u001b[39m]\n\u001b[1;32m    147\u001b[0m iDISC \u001b[38;5;241m=\u001b[39m res[\u001b[38;5;124m'\u001b[39m\u001b[38;5;124miDISC\u001b[39m\u001b[38;5;124m'\u001b[39m]\n",
      "File \u001b[0;32m~/CODE/PROJECT/crib/src/cribbage.py:113\u001b[0m, in \u001b[0;36mbrute_cut_analysis\u001b[0;34m(deal)\u001b[0m\n\u001b[1;32m    111\u001b[0m \u001b[38;5;28;01mfor\u001b[39;00m j, ikeep \u001b[38;5;129;01min\u001b[39;00m \u001b[38;5;28menumerate\u001b[39m(iKEEP):\n\u001b[1;32m    112\u001b[0m     \u001b[38;5;28;01mfor\u001b[39;00m k,cut \u001b[38;5;129;01min\u001b[39;00m \u001b[38;5;28menumerate\u001b[39m(DECK):\n\u001b[0;32m--> 113\u001b[0m         hand \u001b[38;5;241m=\u001b[39m [cut] \u001b[38;5;241m+\u001b[39m [\u001b[43mdeal\u001b[49m\u001b[43m[\u001b[49m\u001b[43mk\u001b[49m\u001b[43m]\u001b[49m \u001b[38;5;28;01mfor\u001b[39;00m k \u001b[38;5;129;01min\u001b[39;00m ikeep]\n\u001b[1;32m    114\u001b[0m         SCORE[k,j] \u001b[38;5;241m=\u001b[39m cribscore(hand)[\u001b[38;5;241m0\u001b[39m]\n\u001b[1;32m    116\u001b[0m \u001b[38;5;28;01mreturn\u001b[39;00m \u001b[38;5;28mvars\u001b[39m()\n",
      "\u001b[0;31mTypeError\u001b[0m: 'set' object is not subscriptable"
     ]
    }
   ],
   "source": [
    "crib.rand_deal_explorer()"
   ]
  },
  {
   "cell_type": "code",
   "execution_count": null,
   "id": "c30c67b3",
   "metadata": {},
   "outputs": [],
   "source": []
  }
 ],
 "metadata": {
  "kernelspec": {
   "display_name": "base",
   "language": "python",
   "name": "python3"
  },
  "language_info": {
   "codemirror_mode": {
    "name": "ipython",
    "version": 3
   },
   "file_extension": ".py",
   "mimetype": "text/x-python",
   "name": "python",
   "nbconvert_exporter": "python",
   "pygments_lexer": "ipython3",
   "version": "3.12.6"
  }
 },
 "nbformat": 4,
 "nbformat_minor": 5
}
