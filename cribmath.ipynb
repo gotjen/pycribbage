{
 "cells": [
  {
   "cell_type": "code",
   "execution_count": 1,
   "id": "6513471b-5b46-4396-b09e-6f1c6567d891",
   "metadata": {},
   "outputs": [],
   "source": [
    "from src.playing_cards import Card, full_deck, sort_cards, random_cards, discard_from_hand, Suit, Value, suit_char, value_char\n",
    "from src.cribbage_gameplay import cribscore, CribbageMatch\n",
    "from src.cribbage import random_deal_explorer, CribAgent, optimal_discard, optimal_play\n",
    "\n",
    "outdir = 'output'"
   ]
  },
  {
   "cell_type": "code",
   "execution_count": 24,
   "id": "238a1bd6-2923-4073-91ab-4d8d1f377e5f",
   "metadata": {},
   "outputs": [
    {
     "name": "stdout",
     "output_type": "stream",
     "text": [
      "[[ ♠ Q ], [ ♠ 8 ], [ ♢ 3 ], [ ♠ 7 ], [ ♢ 8 ]]\n",
      "Score: 6\n"
     ]
    }
   ],
   "source": [
    "h = random_cards(5)\n",
    "score, bdown = cribscore(list(h))\n",
    "print(h)\n",
    "print(f'Score: {score}')"
   ]
  },
  {
   "cell_type": "code",
   "execution_count": 27,
   "id": "dae37f3e-9d80-4ede-9a9f-026243ba6790",
   "metadata": {},
   "outputs": [
    {
     "name": "stdout",
     "output_type": "stream",
     "text": [
      "Dealt:  [[ ♣ A ], [ ♠ 3 ], [ ♣ 7 ], [ ♠ 9 ], [ ♠ J ], [ ♢ K ]]\n",
      "Dealer Discard:\n",
      " [[ ♠ 9 ], [ ♣ 7 ]]\n",
      "Player Discard:\n",
      " [[ ♢ K ], [ ♣ 7 ]]\n",
      "DIFFERENCE!\n"
     ]
    }
   ],
   "source": [
    "deal = sort_cards(random_cards(n=6))\n",
    "idisc_dealer = optimal_discard(deal, is_dealer=True)\n",
    "idisc_player = optimal_discard(deal, is_dealer=False)\n",
    "\n",
    "hand = {'dealer': [], 'player': []}\n",
    "disc = {'dealer': [], 'player': []}\n",
    "hand['dealer'], disc['dealer'] = discard_from_hand(deal, idisc_dealer)\n",
    "hand['player'], disc['player'] = discard_from_hand(deal, idisc_player)\n",
    "\n",
    "print('Dealt: ', deal)\n",
    "print('Dealer Discard:\\n', disc['dealer'])\n",
    "print('Player Discard:\\n', disc['player'])\n",
    "\n",
    "if not disc['dealer'] == disc['player']:\n",
    "    # difference in discard\n",
    "    print('DIFFERENCE!')\n"
   ]
  },
  {
   "cell_type": "code",
   "execution_count": 21,
   "id": "70cb27e4",
   "metadata": {},
   "outputs": [
    {
     "name": "stdout",
     "output_type": "stream",
     "text": [
      "Dealt:  [[ ♠ 2 ], [ ♣ 2 ], [ ♣ 5 ], [ ♠ 10 ], [ ♡ 10 ], [ ♡ J ]]\n",
      "___________\n",
      "Best \"fittness\" parameter\n",
      "With hand: [[ ♣ 5 ], [ ♠ 10 ], [ ♡ 10 ], [ ♡ J ]], and discard [[ ♣ 2 ], [ ♠ 2 ]]\n",
      "Best cut: [ ♡ 5 ], Score: 15.0\n",
      "Mean score: 8.673913043478262, Median score: 7.0\n",
      "Worst cut: [ ♠ A ], Score 6.0\n"
     ]
    },
    {
     "data": {
      "text/plain": [
       "[[ ♠ 2 ], [ ♣ 2 ], [ ♣ 5 ], [ ♠ 10 ], [ ♡ 10 ], [ ♡ J ]]"
      ]
     },
     "execution_count": 21,
     "metadata": {},
     "output_type": "execute_result"
    }
   ],
   "source": [
    "random_deal_explorer(deal=deal, is_dealer=False)"
   ]
  },
  {
   "cell_type": "code",
   "execution_count": 6,
   "id": "1226d910",
   "metadata": {},
   "outputs": [],
   "source": [
    "agent1 = CribAgent('human', 'Henry')\n",
    "agent2 = CribAgent('fit', 'Mercury')\n",
    "match = CribbageMatch(agent1, agent2, verbose = True)\n",
    "match.playmatch()"
   ]
  },
  {
   "cell_type": "code",
   "execution_count": null,
   "id": "827e0801",
   "metadata": {},
   "outputs": [],
   "source": [
    "match.playmatch()"
   ]
  },
  {
   "cell_type": "code",
   "execution_count": 21,
   "id": "73220059",
   "metadata": {},
   "outputs": [
    {
     "ename": "AssertionError",
     "evalue": "Illegal. Duplicate cards appear: {this_card}.",
     "output_type": "error",
     "traceback": [
      "\u001b[0;31m---------------------------------------------------------------------------\u001b[0m",
      "\u001b[0;31mAssertionError\u001b[0m                            Traceback (most recent call last)",
      "Cell \u001b[0;32mIn[21], line 24\u001b[0m\n\u001b[1;32m     21\u001b[0m test \u001b[38;5;241m=\u001b[39m \u001b[38;5;124m'\u001b[39m\u001b[38;5;124m0 [ ♡ A ]1 [ ♣ 4 ]2 [ ♠ 5 ]3 [ ♣ 4 ]4 [ ♢ 10 ]5 [ ♣ Q ]\u001b[39m\u001b[38;5;124m'\u001b[39m\n\u001b[1;32m     22\u001b[0m \u001b[38;5;66;03m# hand_gen = random_cards(n=6)\u001b[39;00m\n\u001b[1;32m     23\u001b[0m \u001b[38;5;66;03m# test = ' '.join(list(map(str,hand_gen)))\u001b[39;00m\n\u001b[0;32m---> 24\u001b[0m hand \u001b[38;5;241m=\u001b[39m \u001b[43mstr2hand\u001b[49m\u001b[43m(\u001b[49m\u001b[43mtest\u001b[49m\u001b[43m)\u001b[49m\n\u001b[1;32m     25\u001b[0m \u001b[38;5;28mprint\u001b[39m(hand_gen)\n\u001b[1;32m     26\u001b[0m \u001b[38;5;28mprint\u001b[39m(hand)\n",
      "Cell \u001b[0;32mIn[21], line 14\u001b[0m, in \u001b[0;36mstr2hand\u001b[0;34m(s)\u001b[0m\n\u001b[1;32m     11\u001b[0m     v \u001b[38;5;241m=\u001b[39m value_char\u001b[38;5;241m.\u001b[39mindex(V)\n\u001b[1;32m     13\u001b[0m     this_card \u001b[38;5;241m=\u001b[39m Card(s,v)\n\u001b[0;32m---> 14\u001b[0m     \u001b[38;5;28;01massert\u001b[39;00m this_card \u001b[38;5;129;01mnot\u001b[39;00m \u001b[38;5;129;01min\u001b[39;00m cards, \u001b[38;5;124m'\u001b[39m\u001b[38;5;124mIllegal. Duplicate cards appear: \u001b[39m\u001b[38;5;132;01m{this_card}\u001b[39;00m\u001b[38;5;124m.\u001b[39m\u001b[38;5;124m'\u001b[39m\n\u001b[1;32m     16\u001b[0m     cards\u001b[38;5;241m.\u001b[39mappend( this_card )\n\u001b[1;32m     18\u001b[0m \u001b[38;5;28;01mreturn\u001b[39;00m cards\n",
      "\u001b[0;31mAssertionError\u001b[0m: Illegal. Duplicate cards appear: {this_card}."
     ]
    }
   ],
   "source": [
    "import re\n",
    "def str2hand(s):\n",
    "    '''Parse cards from a string in the form '[ <suit><card ]'. Return list of cards object'''  \n",
    "    patt = r'\\[\\s*([♠♡♢♣])\\s*(\\d+|[AJQK])\\s\\]'\n",
    "    matches = re.findall(patt,s)\n",
    "\n",
    "    cards = []\n",
    "    \n",
    "    for S,V in matches:\n",
    "        s = suit_char.index(S)\n",
    "        v = value_char.index(V)\n",
    "\n",
    "        this_card = Card(s,v)\n",
    "        assert this_card not in cards, 'Illegal. Duplicate cards appear: {this_card}.'\n",
    "\n",
    "        cards.append( this_card )\n",
    "\n",
    "    return cards\n",
    "\n",
    "\n",
    "test = '0 [ ♡ A ]1 [ ♣ 4 ]2 [ ♠ 5 ]3 [ ♣ 9 ]4 [ ♢ 10 ]5 [ ♣ Q ]'\n",
    "# hand_gen = random_cards(n=6)\n",
    "# test = ' '.join(list(map(str,hand_gen)))\n",
    "hand = str2hand(test)\n",
    "print(hand_gen)\n",
    "print(hand)"
   ]
  }
 ],
 "metadata": {
  "kernelspec": {
   "display_name": "base",
   "language": "python",
   "name": "python3"
  },
  "language_info": {
   "codemirror_mode": {
    "name": "ipython",
    "version": 3
   },
   "file_extension": ".py",
   "mimetype": "text/x-python",
   "name": "python",
   "nbconvert_exporter": "python",
   "pygments_lexer": "ipython3",
   "version": "3.12.6"
  }
 },
 "nbformat": 4,
 "nbformat_minor": 5
}
