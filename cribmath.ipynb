{
 "cells": [
  {
   "cell_type": "code",
   "execution_count": 1,
   "id": "6513471b-5b46-4396-b09e-6f1c6567d891",
   "metadata": {},
   "outputs": [],
   "source": [
    "from cribbage import *\n",
    "\n",
    "outdir = 'output'"
   ]
  },
  {
   "cell_type": "code",
   "execution_count": 2,
   "id": "238a1bd6-2923-4073-91ab-4d8d1f377e5f",
   "metadata": {},
   "outputs": [
    {
     "name": "stdout",
     "output_type": "stream",
     "text": [
      "[[ ♢ 3 ], [ ♡ 2 ], [ ♢ 5 ], [ ♣ 4 ], [ ♠ 7 ]]\n",
      "Score: 6\n"
     ]
    }
   ],
   "source": [
    "h = random_cards(5)\n",
    "score, bdown = cribscore(list(h))\n",
    "print(h)\n",
    "print(f'Score: {score}')"
   ]
  },
  {
   "cell_type": "code",
   "execution_count": 3,
   "id": "dae37f3e-9d80-4ede-9a9f-026243ba6790",
   "metadata": {},
   "outputs": [
    {
     "name": "stdout",
     "output_type": "stream",
     "text": [
      "Dealt:  [[ ♠ 2 ], [ ♢ 2 ], [ ♠ 4 ], [ ♢ 4 ], [ ♣ 5 ], [ ♠ Q ]]\n",
      "Dealer Discard:\n",
      " [[ ♠ Q ], [ ♣ 5 ]]\n",
      "Player Discard:\n",
      " [[ ♠ Q ], [ ♠ 2 ]]\n",
      "DIFFERENCE!\n"
     ]
    }
   ],
   "source": [
    "deal = sort_cards(random_cards(n=6))\n",
    "idisc_dealer = optimal_discard(deal, is_dealer=True)\n",
    "idisc_player = optimal_discard(deal, is_dealer=False)\n",
    "\n",
    "hand = {'dealer': [], 'player': []}\n",
    "disc = {'dealer': [], 'player': []}\n",
    "hand['dealer'], disc['dealer'] = discard_from_hand(deal, idisc_dealer)\n",
    "hand['player'], disc['player'] = discard_from_hand(deal, idisc_player)\n",
    "\n",
    "print('Dealt: ', deal)\n",
    "print('Dealer Discard:\\n', disc['dealer'])\n",
    "print('Player Discard:\\n', disc['player'])\n",
    "\n",
    "if not disc['dealer'] == disc['player']:\n",
    "    # difference in discard\n",
    "    print('DIFFERENCE!')\n"
   ]
  },
  {
   "cell_type": "code",
   "execution_count": 6,
   "id": "70cb27e4",
   "metadata": {},
   "outputs": [
    {
     "name": "stdout",
     "output_type": "stream",
     "text": [
      "Dealt:  [[ ♠ 2 ], [ ♢ 2 ], [ ♠ 4 ], [ ♢ 4 ], [ ♣ 5 ], [ ♠ Q ]]\n",
      "___________\n",
      "Best \"fittness\" parameter\n",
      "With hand: [[ ♢ 2 ], [ ♠ 4 ], [ ♢ 4 ], [ ♣ 5 ]], and discard [[ ♠ Q ], [ ♠ 2 ]]\n",
      "Best cut: [ ♠ 6 ], Score: 14.0\n",
      "Mean score: 7.695652173913044, Median score: 6.0\n",
      "Worst cut: [ ♠ A ], Score 4.0\n"
     ]
    },
    {
     "data": {
      "text/plain": [
       "[[ ♠ 2 ], [ ♢ 2 ], [ ♠ 4 ], [ ♢ 4 ], [ ♣ 5 ], [ ♠ Q ]]"
      ]
     },
     "execution_count": 6,
     "metadata": {},
     "output_type": "execute_result"
    }
   ],
   "source": [
    "cribbage.random_deal_explorer(deal=deal, is_dealer=False)"
   ]
  },
  {
   "cell_type": "code",
   "execution_count": 3,
   "id": "73220059",
   "metadata": {},
   "outputs": [
    {
     "ename": "AttributeError",
     "evalue": "'list' object has no attribute 'suit_char'",
     "output_type": "error",
     "traceback": [
      "\u001b[0;31m---------------------------------------------------------------------------\u001b[0m",
      "\u001b[0;31mAttributeError\u001b[0m                            Traceback (most recent call last)",
      "Cell \u001b[0;32mIn[3], line 24\u001b[0m\n\u001b[1;32m     21\u001b[0m test \u001b[38;5;241m=\u001b[39m \u001b[38;5;124m'\u001b[39m\u001b[38;5;124m0 [ ♡ A ]1 [ ♣ 4 ]2 [ ♠ 5 ]3 [ ♣ 9 ]4 [ ♢ 10 ]5 [ ♣ Q ]\u001b[39m\u001b[38;5;124m'\u001b[39m\n\u001b[1;32m     22\u001b[0m \u001b[38;5;66;03m# hand_gen = random_cards(n=6)\u001b[39;00m\n\u001b[1;32m     23\u001b[0m \u001b[38;5;66;03m# test = ' '.join(list(map(str,hand_gen)))\u001b[39;00m\n\u001b[0;32m---> 24\u001b[0m hand \u001b[38;5;241m=\u001b[39m \u001b[43mstr2hand\u001b[49m\u001b[43m(\u001b[49m\u001b[43mtest\u001b[49m\u001b[43m)\u001b[49m\n\u001b[1;32m     25\u001b[0m \u001b[38;5;28mprint\u001b[39m(hand_gen)\n\u001b[1;32m     26\u001b[0m \u001b[38;5;28mprint\u001b[39m(hand)\n",
      "Cell \u001b[0;32mIn[3], line 10\u001b[0m, in \u001b[0;36mstr2hand\u001b[0;34m(s)\u001b[0m\n\u001b[1;32m      7\u001b[0m cards \u001b[38;5;241m=\u001b[39m []\n\u001b[1;32m      9\u001b[0m \u001b[38;5;28;01mfor\u001b[39;00m S,V \u001b[38;5;129;01min\u001b[39;00m matches:\n\u001b[0;32m---> 10\u001b[0m     s \u001b[38;5;241m=\u001b[39m \u001b[43mcards\u001b[49m\u001b[38;5;241;43m.\u001b[39;49m\u001b[43msuit_char\u001b[49m\u001b[38;5;241m.\u001b[39mindex(S)\n\u001b[1;32m     11\u001b[0m     v \u001b[38;5;241m=\u001b[39m cards\u001b[38;5;241m.\u001b[39mvalue_char\u001b[38;5;241m.\u001b[39mindex(V)\n\u001b[1;32m     13\u001b[0m     this_card \u001b[38;5;241m=\u001b[39m Card(s,v)\n",
      "\u001b[0;31mAttributeError\u001b[0m: 'list' object has no attribute 'suit_char'"
     ]
    }
   ],
   "source": [
    "import re\n",
    "def str2hand(s):\n",
    "    '''Parse cards from a string in the form '[ <suit><card ]'. Return list of cards object'''  \n",
    "    patt = r'\\[\\s*([♠♡♢♣])\\s*(\\d+|[AJQK])\\s\\]'\n",
    "    matches = re.findall(patt,s)\n",
    "\n",
    "    cards = []\n",
    "    \n",
    "    for S,V in matches:\n",
    "        try:\n",
    "            invalid = 'suit'\n",
    "            s = cards.suit_char.index(S)\n",
    "            invalid = 'valid'\n",
    "            v = cards.value_char.index(V)\n",
    "        except ValueError:\n",
    "            print(f'Skipping invalid {invalid} in card [ {V},{S}]')\n",
    "\n",
    "        this_card = Card(s,v)\n",
    "        assert this_card not in cards, 'Illegal. Duplicate cards appear: {this_card}.'\n",
    "\n",
    "        cards.append( this_card )\n",
    "\n",
    "    return cards\n",
    "    \n",
    "\n",
    "test = '0 [ ♡ A ]1 [ ♣ 4 ]2 [ ♠ 5 ]3 [ ♣ 9 ]4 [ ♢ 10 ]5 [ ♣ Q ]'\n",
    "# hand_gen = random_cards(n=6)\n",
    "# test = ' '.join(list(map(str,hand_gen)))\n",
    "hand = str2hand(test)\n",
    "print(hand_gen)\n",
    "print(hand)"
   ]
  },
  {
   "cell_type": "code",
   "execution_count": 4,
   "id": "c52cf6fe",
   "metadata": {},
   "outputs": [
    {
     "data": {
      "text/plain": [
       "<module 'cribbage.cards' from '/home/myco/CODE/PROJECT/crib/cribbage/cards.py'>"
      ]
     },
     "execution_count": 4,
     "metadata": {},
     "output_type": "execute_result"
    }
   ],
   "source": [
    "cards"
   ]
  },
  {
   "cell_type": "code",
   "execution_count": 7,
   "id": "4be4f0f0",
   "metadata": {},
   "outputs": [
    {
     "ename": "ValueError",
     "evalue": "'D' is not in list",
     "output_type": "error",
     "traceback": [
      "\u001b[0;31m---------------------------------------------------------------------------\u001b[0m",
      "\u001b[0;31mValueError\u001b[0m                                Traceback (most recent call last)",
      "Cell \u001b[0;32mIn[7], line 1\u001b[0m\n\u001b[0;32m----> 1\u001b[0m \u001b[43mcards\u001b[49m\u001b[38;5;241;43m.\u001b[39;49m\u001b[43mvalue_char\u001b[49m\u001b[38;5;241;43m.\u001b[39;49m\u001b[43mindex\u001b[49m\u001b[43m(\u001b[49m\u001b[38;5;124;43m'\u001b[39;49m\u001b[38;5;124;43mD\u001b[39;49m\u001b[38;5;124;43m'\u001b[39;49m\u001b[43m)\u001b[49m\n",
      "\u001b[0;31mValueError\u001b[0m: 'D' is not in list"
     ]
    }
   ],
   "source": [
    "cards.value_char.index('D')"
   ]
  },
  {
   "cell_type": "code",
   "execution_count": null,
   "id": "9286af15",
   "metadata": {},
   "outputs": [],
   "source": []
  }
 ],
 "metadata": {
  "kernelspec": {
   "display_name": "base",
   "language": "python",
   "name": "python3"
  },
  "language_info": {
   "codemirror_mode": {
    "name": "ipython",
    "version": 3
   },
   "file_extension": ".py",
   "mimetype": "text/x-python",
   "name": "python",
   "nbconvert_exporter": "python",
   "pygments_lexer": "ipython3",
   "version": "3.12.6"
  }
 },
 "nbformat": 4,
 "nbformat_minor": 5
}
