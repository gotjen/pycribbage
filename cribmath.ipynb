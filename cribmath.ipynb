{
 "cells": [
  {
   "cell_type": "code",
   "execution_count": 2,
   "id": "6513471b-5b46-4396-b09e-6f1c6567d891",
   "metadata": {},
   "outputs": [],
   "source": [
    "from src.playing_cards import Card, full_deck, sort_cards, random_cards, discard_from_hand\n",
    "from src.cribbage_gameplay import cribscore, CribbageMatch\n",
    "from src.cribbage import random_deal_explorer, CribAgent, optimal_discard, optimal_play\n",
    "\n",
    "outdir = 'output'"
   ]
  },
  {
   "cell_type": "code",
   "execution_count": 3,
   "id": "238a1bd6-2923-4073-91ab-4d8d1f377e5f",
   "metadata": {},
   "outputs": [
    {
     "name": "stdout",
     "output_type": "stream",
     "text": [
      "[[ ♠ K ], [ ♢ 4 ], [ ♢ 5 ], [ ♡ J ], [ ♠ 5 ]]\n",
      "Score: 10\n"
     ]
    }
   ],
   "source": [
    "h = random_cards(5)\n",
    "score, bdown = cribscore(list(h))\n",
    "print(h)\n",
    "print(f'Score: {score}')"
   ]
  },
  {
   "cell_type": "code",
   "execution_count": 22,
   "id": "dae37f3e-9d80-4ede-9a9f-026243ba6790",
   "metadata": {},
   "outputs": [
    {
     "name": "stdout",
     "output_type": "stream",
     "text": [
      "Dealt:  [[ ♡ 2 ], [ ♡ 6 ], [ ♣ 6 ], [ ♣ 7 ], [ ♠ 8 ], [ ♡ K ]]\n",
      "Dealer Discard:\n",
      " [[ ♡ K ], [ ♡ 2 ]]\n",
      "Player Discard:\n",
      " [[ ♡ K ], [ ♡ 2 ]]\n"
     ]
    }
   ],
   "source": [
    "deal = sort_cards(random_cards(n=6))\n",
    "idisc_dealer = optimal_discard(deal, is_dealer=True)\n",
    "idisc_player = optimal_discard(deal, is_dealer=False)\n",
    "\n",
    "hand = {'dealer': [], 'player': []}\n",
    "disc = {'dealer': [], 'player': []}\n",
    "hand['dealer'], disc['dealer'] = discard_from_hand(deal, idisc_dealer)\n",
    "hand['player'], disc['player'] = discard_from_hand(deal, idisc_player)\n",
    "\n",
    "print('Dealt: ', deal)\n",
    "print('Dealer Discard:\\n', disc['dealer'])\n",
    "print('Player Discard:\\n', disc['player'])\n",
    "\n",
    "if not disc['dealer'] == disc['player']:\n",
    "    # difference in discard\n",
    "    print('DIFFERENCE!')\n"
   ]
  },
  {
   "cell_type": "code",
   "execution_count": 21,
   "id": "70cb27e4",
   "metadata": {},
   "outputs": [
    {
     "name": "stdout",
     "output_type": "stream",
     "text": [
      "Dealt:  [[ ♠ 2 ], [ ♣ 2 ], [ ♣ 5 ], [ ♠ 10 ], [ ♡ 10 ], [ ♡ J ]]\n",
      "___________\n",
      "Best \"fittness\" parameter\n",
      "With hand: [[ ♣ 5 ], [ ♠ 10 ], [ ♡ 10 ], [ ♡ J ]], and discard [[ ♣ 2 ], [ ♠ 2 ]]\n",
      "Best cut: [ ♡ 5 ], Score: 15.0\n",
      "Mean score: 8.673913043478262, Median score: 7.0\n",
      "Worst cut: [ ♠ A ], Score 6.0\n"
     ]
    },
    {
     "data": {
      "text/plain": [
       "[[ ♠ 2 ], [ ♣ 2 ], [ ♣ 5 ], [ ♠ 10 ], [ ♡ 10 ], [ ♡ J ]]"
      ]
     },
     "execution_count": 21,
     "metadata": {},
     "output_type": "execute_result"
    }
   ],
   "source": [
    "random_deal_explorer(deal=deal, is_dealer=False)"
   ]
  },
  {
   "cell_type": "code",
   "execution_count": 6,
   "id": "1226d910",
   "metadata": {},
   "outputs": [],
   "source": [
    "agent1 = CribAgent('human', 'Henry')\n",
    "agent2 = CribAgent('fit', 'Mercury')\n",
    "match = CribbageMatch(agent1, agent2, verbose = True)\n",
    "match.playmatch()"
   ]
  },
  {
   "cell_type": "code",
   "execution_count": null,
   "id": "827e0801",
   "metadata": {},
   "outputs": [],
   "source": [
    "match.playmatch()"
   ]
  },
  {
   "cell_type": "code",
   "execution_count": null,
   "id": "73220059",
   "metadata": {},
   "outputs": [],
   "source": []
  }
 ],
 "metadata": {
  "kernelspec": {
   "display_name": "base",
   "language": "python",
   "name": "python3"
  },
  "language_info": {
   "codemirror_mode": {
    "name": "ipython",
    "version": 3
   },
   "file_extension": ".py",
   "mimetype": "text/x-python",
   "name": "python",
   "nbconvert_exporter": "python",
   "pygments_lexer": "ipython3",
   "version": "3.12.6"
  }
 },
 "nbformat": 4,
 "nbformat_minor": 5
}
